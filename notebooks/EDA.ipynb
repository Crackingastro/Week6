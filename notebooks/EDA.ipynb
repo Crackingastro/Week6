{
  "cells": [
    {
      "cell_type": "code",
      "execution_count": null,
      "metadata": {
        "id": "TegwZ-ANiEc_"
      },
      "outputs": [],
      "source": [
        "import re\n",
        "import pandas as pd\n",
        "import matplotlib.pyplot as plt"
      ]
    },
    {
      "cell_type": "code",
      "execution_count": null,
      "metadata": {
        "colab": {
          "base_uri": "https://localhost:8080/"
        },
        "id": "kxV3V_WGiGVf",
        "outputId": "21af686c-c3c1-4077-ceb3-385e627fa60d"
      },
      "outputs": [
        {
          "name": "stderr",
          "output_type": "stream",
          "text": [
            "/tmp/ipython-input-2-456676068.py:2: DtypeWarning: Columns (16) have mixed types. Specify dtype option on import or set low_memory=False.\n",
            "  df = pd.read_csv('/content/drive/MyDrive/Copy of complaints.csv')\n"
          ]
        }
      ],
      "source": [
        "# 1. Load the full CFPB dataset with Dask\n",
        "df = pd.read_csv('../Data/complaints.csv')\n",
        "\n",
        "\n",
        "# 2. Filter to the five target Products to reduce the size of the data since collab keeps crashing\n",
        "keep = [\n",
        "    'Credit card',\n",
        "    'Personal loan',\n",
        "    'Buy Now, Pay Later (BNPL)',\n",
        "    'Savings account',\n",
        "    'Money transfers'\n",
        "]\n",
        "df = df[df['Product'].isin(keep)]"
      ]
    },
    {
      "cell_type": "code",
      "execution_count": null,
      "metadata": {
        "colab": {
          "base_uri": "https://localhost:8080/"
        },
        "id": "STUphZzkjXtQ",
        "outputId": "2a0f65cd-2a12-43af-e4aa-3d867e0579b3"
      },
      "outputs": [
        {
          "name": "stdout",
          "output_type": "stream",
          "text": [
            "    Date received      Product                                 Sub-product  \\\n",
            "334    2025-06-20  Credit card  General-purpose credit card or charge card   \n",
            "595    2025-06-20  Credit card  General-purpose credit card or charge card   \n",
            "661    2025-06-20  Credit card  General-purpose credit card or charge card   \n",
            "687    2025-06-20  Credit card  General-purpose credit card or charge card   \n",
            "795    2025-06-20  Credit card  General-purpose credit card or charge card   \n",
            "\n",
            "                                                 Issue  \\\n",
            "334  Problem with a company's investigation into an...   \n",
            "595  Problem with a company's investigation into an...   \n",
            "661  Problem with a company's investigation into an...   \n",
            "687  Problem with a company's investigation into an...   \n",
            "795               Incorrect information on your report   \n",
            "\n",
            "                                             Sub-issue  \\\n",
            "334  Was not notified of investigation status or re...   \n",
            "595  Was not notified of investigation status or re...   \n",
            "661  Was not notified of investigation status or re...   \n",
            "687  Was not notified of investigation status or re...   \n",
            "795                           Account status incorrect   \n",
            "\n",
            "    Consumer complaint narrative Company public response  \\\n",
            "334                          NaN                     NaN   \n",
            "595                          NaN                     NaN   \n",
            "661                          NaN                     NaN   \n",
            "687                          NaN                     NaN   \n",
            "795                          NaN                     NaN   \n",
            "\n",
            "                                    Company State ZIP code Tags  \\\n",
            "334                           EQUIFAX, INC.    TX    75104  NaN   \n",
            "595     Experian Information Solutions Inc.    CA    92553  NaN   \n",
            "661  TRANSUNION INTERMEDIATE HOLDINGS, INC.    TX    77346  NaN   \n",
            "687                           EQUIFAX, INC.    TX    77346  NaN   \n",
            "795  TRANSUNION INTERMEDIATE HOLDINGS, INC.    LA    71108  NaN   \n",
            "\n",
            "    Consumer consent provided? Submitted via Date sent to company  \\\n",
            "334                        NaN           Web           2025-06-20   \n",
            "595                        NaN           Web           2025-06-20   \n",
            "661                        NaN           Web           2025-06-20   \n",
            "687                        NaN           Web           2025-06-20   \n",
            "795                        NaN           Web           2025-06-20   \n",
            "\n",
            "    Company response to consumer Timely response? Consumer disputed?  \\\n",
            "334                  In progress              Yes                NaN   \n",
            "595                  In progress              Yes                NaN   \n",
            "661                  In progress              Yes                NaN   \n",
            "687                  In progress              Yes                NaN   \n",
            "795                  In progress              Yes                NaN   \n",
            "\n",
            "     Complaint ID  \n",
            "334      14196294  \n",
            "595      14196854  \n",
            "661      14196870  \n",
            "687      14196880  \n",
            "795      14197003  \n",
            "Date received                   object\n",
            "Product                         object\n",
            "Sub-product                     object\n",
            "Issue                           object\n",
            "Sub-issue                       object\n",
            "Consumer complaint narrative    object\n",
            "Company public response         object\n",
            "Company                         object\n",
            "State                           object\n",
            "ZIP code                        object\n",
            "Tags                            object\n",
            "Consumer consent provided?      object\n",
            "Submitted via                   object\n",
            "Date sent to company            object\n",
            "Company response to consumer    object\n",
            "Timely response?                object\n",
            "Consumer disputed?              object\n",
            "Complaint ID                     int64\n",
            "dtype: object\n",
            "Date received                     2640\n",
            "Product                              2\n",
            "Sub-product                          4\n",
            "Issue                               54\n",
            "Sub-issue                           55\n",
            "Consumer complaint narrative     74656\n",
            "Company public response             11\n",
            "Company                            920\n",
            "State                               63\n",
            "ZIP code                         18220\n",
            "Tags                                 3\n",
            "Consumer consent provided?           4\n",
            "Submitted via                        6\n",
            "Date sent to company              2566\n",
            "Company response to consumer         8\n",
            "Timely response?                     2\n",
            "Consumer disputed?                   2\n",
            "Complaint ID                    232040\n",
            "dtype: int64\n"
          ]
        }
      ],
      "source": [
        "print(df.head())                      \n",
        "print(df.dtypes)                      \n",
        "print(df.nunique())"
      ]
    },
    {
      "cell_type": "code",
      "execution_count": 4,
      "metadata": {
        "colab": {
          "base_uri": "https://localhost:8080/",
          "height": 487
        },
        "id": "1Fk-EHAKjIuk",
        "outputId": "f2d43153-e9b7-4688-acb0-48375648807f"
      },
      "outputs": [
        {
          "data": {
            "image/png": "[encoded data removed]",
            "text/plain": [
              "<Figure size 640x480 with 1 Axes>"
            ]
          },
          "metadata": {},
          "output_type": "display_data"
        }
      ],
      "source": [
        "# 3. Analyze distribution of complaints across Products (6-char labels)\n",
        "df['prod6'] = df['Product'].str.slice(0, 6)\n",
        "\n",
        "# Plot using the truncated labels\n",
        "df['prod6'].value_counts().plot(kind='bar')\n",
        "plt.title('Complaints by Product (short labels)')\n",
        "plt.xlabel('Product (first 6 chars)')\n",
        "plt.ylabel('Count')\n",
        "plt.xticks(rotation=45, ha='right')\n",
        "plt.tight_layout()\n",
        "plt.show()\n"
      ]
    },
    {
      "cell_type": "code",
      "execution_count": 5,
      "metadata": {
        "colab": {
          "base_uri": "https://localhost:8080/",
          "height": 667
        },
        "id": "L83kQjDWiOaG",
        "outputId": "802d99b7-5d70-44a1-b92a-c2a7bf8234df"
      },
      "outputs": [
        {
          "data": {
            "image/png": "[encoded data removed]",
            "text/plain": [
              "<Figure size 800x400 with 1 Axes>"
            ]
          },
          "metadata": {},
          "output_type": "display_data"
        },
        {
          "name": "stdout",
          "output_type": "stream",
          "text": [
            "Shortest narratives (word counts):\n",
            "334    0\n",
            "595    0\n",
            "661    0\n",
            "687    0\n",
            "795    0\n",
            "Name: narr_len, dtype: int64\n",
            "\n",
            "Longest narratives (word counts):\n",
            "2946941    6469\n",
            "3620187    5911\n",
            "4022686    5910\n",
            "8672702    5907\n",
            "4023259    5900\n",
            "Name: narr_len, dtype: int64\n"
          ]
        }
      ],
      "source": [
        "\n",
        "# 4. Narrative length distribution (word count)\n",
        "#    first fill NAs, then count words\n",
        "df['narr_len'] = df['Consumer complaint narrative']\\\n",
        "                    .fillna('')\\\n",
        "                    .str.split()\\\n",
        "                    .map(len)\n",
        "# convert to pandas for plotting\n",
        "narr = df['narr_len']\n",
        "narr.hist(bins=50, figsize=(8,4))\n",
        "plt.title('Narrative Length Distribution')\n",
        "plt.xlabel('Word Count')\n",
        "plt.ylabel('Number of Complaints')\n",
        "plt.tight_layout()\n",
        "plt.show()\n",
        "\n",
        "#    identify very short / very long\n",
        "short_idxs = narr.nsmallest(5).index\n",
        "long_idxs  = narr.nlargest(5).index\n",
        "print(\"Shortest narratives (word counts):\")\n",
        "print(narr.loc[short_idxs])\n",
        "print(\"\\nLongest narratives (word counts):\")\n",
        "print(narr.loc[long_idxs])\n"
      ]
    },
    {
      "cell_type": "code",
      "execution_count": 6,
      "metadata": {
        "colab": {
          "base_uri": "https://localhost:8080/"
        },
        "id": "n9fPCZNViNQZ",
        "outputId": "b74341c8-7abf-4607-82bc-e51f684e7958"
      },
      "outputs": [
        {
          "name": "stdout",
          "output_type": "stream",
          "text": [
            "Complaints WITHOUT narrative: 149876\n",
            "Complaints WITH narrative: 82164\n"
          ]
        }
      ],
      "source": [
        "\n",
        "# 5. Count complaints with vs without narrative\n",
        "num_empty = (narr == 0).sum()\n",
        "num_total = len(narr)\n",
        "print(f\"Complaints WITHOUT narrative: {num_empty}\")\n",
        "print(f\"Complaints WITH narrative: {num_total - num_empty}\")\n"
      ]
    },
    {
      "cell_type": "code",
      "execution_count": null,
      "metadata": {
        "id": "TD1uuQ_GiK6i"
      },
      "outputs": [],
      "source": [
        "\n",
        "# 6. Drop any rows whose narrative is empty or null\n",
        "df = df[df['Consumer complaint narrative'].notnull()]\n",
        "df = df[df['Consumer complaint narrative'].str.strip() != '']\n"
      ]
    },
    {
      "cell_type": "code",
      "execution_count": null,
      "metadata": {
        "id": "4EP1NjT1iJnO"
      },
      "outputs": [],
      "source": [
        "# 7. Clean the text for better embeddings\n",
        "def clean_text(text):\n",
        "    text = text.lower()\n",
        "    # remove common boilerplate\n",
        "    text = re.sub(r'i am writing to (file|submit) a complaint[^\\n]*', '', text)\n",
        "    # strip out non-alphanumeric characters\n",
        "    text = re.sub(r'[^a-z0-9\\s]', ' ', text)\n",
        "    # collapse whitespace\n",
        "    text = re.sub(r'\\s+', ' ', text).strip()\n",
        "    return text\n",
        "\n",
        "# if using Dask:\n",
        "df['clean_narrative'] = df['Consumer complaint narrative'].map(clean_text)"
      ]
    },
    {
      "cell_type": "code",
      "execution_count": null,
      "metadata": {
        "colab": {
          "base_uri": "https://localhost:8080/"
        },
        "id": "b2yAuWUriIeo",
        "outputId": "25f44de7-3ae3-449b-a13c-c72323ad39a1"
      },
      "outputs": [
        {
          "name": "stdout",
          "output_type": "stream",
          "text": [
            "After cleaning narrative length stats:\n",
            "count    82164.000000\n",
            "mean       201.368945\n",
            "std        220.865719\n",
            "min          0.000000\n",
            "25%         64.000000\n",
            "50%        143.000000\n",
            "75%        263.000000\n",
            "max       6472.000000\n",
            "Name: clean_len, dtype: float64\n"
          ]
        }
      ],
      "source": [
        "# 8. Recompute narrative length on cleaned text\n",
        "df['clean_len'] = df['clean_narrative'].str.split().map(len)\n",
        "clean_len = df['clean_len']\n",
        "print(\"After cleaning narrative length stats:\")\n",
        "print(clean_len.describe())\n"
      ]
    },
    {
      "cell_type": "code",
      "execution_count": 10,
      "metadata": {
        "id": "Mh2K3qnhyUYI"
      },
      "outputs": [],
      "source": [
        "len(df)\n",
        "df.to_csv(\"filtered_complaints.csv\")"
      ]
    }
  ],
  "metadata": {
    "colab": {
      "provenance": []
    },
    "kernelspec": {
      "display_name": "Python 3",
      "name": "python3"
    },
    "language_info": {
      "name": "python",
      "version": "3.12.10"
    }
  },
  "nbformat": 4,
  "nbformat_minor": 0
}
